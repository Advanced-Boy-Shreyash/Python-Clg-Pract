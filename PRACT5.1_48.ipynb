{
 "cells": [
  {
   "cell_type": "code",
   "execution_count": 1,
   "id": "3ff27a54",
   "metadata": {},
   "outputs": [
    {
     "name": "stdout",
     "output_type": "stream",
     "text": [
      "str Variable is Assigned to Hello Python\n"
     ]
    }
   ],
   "source": [
    "# Assignment operator: \"=\"\n",
    "str=\"Hello Python\"\n",
    "print(\"str Variable is Assigned to\", str)"
   ]
  },
  {
   "cell_type": "code",
   "execution_count": 2,
   "id": "f26c97fc",
   "metadata": {},
   "outputs": [
    {
     "name": "stdout",
     "output_type": "stream",
     "text": [
      "Concatinate str1 & str2 Hello World!\n"
     ]
    }
   ],
   "source": [
    "# Concatenate operator: \"+\"\n",
    "str1=\"Hello\"\n",
    "str2=\" World!\"\n",
    "print(\"Concatinate str1 & str2\", str1+str2)"
   ]
  },
  {
   "cell_type": "code",
   "execution_count": 3,
   "id": "b93d96d3",
   "metadata": {},
   "outputs": [
    {
     "name": "stdout",
     "output_type": "stream",
     "text": [
      "Repetition of str: HelloHelloHelloHello\n"
     ]
    }
   ],
   "source": [
    "# String repetition operator: \"*\"\n",
    "str=\"Hello\"\n",
    "str1=str*4\n",
    "print(\"Repetition of str:\",str1)"
   ]
  },
  {
   "cell_type": "code",
   "execution_count": 4,
   "id": "bfd91499",
   "metadata": {},
   "outputs": [
    {
     "name": "stdout",
     "output_type": "stream",
     "text": [
      "True\n",
      "False\n"
     ]
    }
   ],
   "source": [
    "# Membership operator: \"in\" & \"not in\"\n",
    "str = \"This is a Python Statement\"\n",
    "s1=\"This\" in str\n",
    "s2=\"This\" not in str\n",
    "print(s1)\n",
    "print(s2)"
   ]
  },
  {
   "cell_type": "code",
   "execution_count": 5,
   "id": "05868af3",
   "metadata": {},
   "outputs": [
    {
     "name": "stdout",
     "output_type": "stream",
     "text": [
      "This is on First Line \n",
      "This will be on Another Line\n",
      "\tThis sentence has a Tab\n"
     ]
    }
   ],
   "source": [
    "#Escape sequence operator: \"\\\"\n",
    "print (\"This is on First Line \\nThis will be on Another Line\" )\n",
    "print (\"\\tThis sentence has a Tab\")"
   ]
  },
  {
   "cell_type": "code",
   "execution_count": 6,
   "id": "4d2d78d2",
   "metadata": {},
   "outputs": [
    {
     "name": "stdout",
     "output_type": "stream",
     "text": [
      "Goo\n",
      "ogle\n",
      "Goo\n",
      "oog\n",
      "ogl\n"
     ]
    }
   ],
   "source": [
    "# String slicing operator: \"[]\"\n",
    "str=\"Google\"\n",
    "print(str[:3])\n",
    "print(str[2:])\n",
    "print(str[:-3])\n",
    "print(str[1:-2])\n",
    "print(str[-4:-1])"
   ]
  }
 ],
 "metadata": {
  "kernelspec": {
   "display_name": "Python 3 (ipykernel)",
   "language": "python",
   "name": "python3"
  },
  "language_info": {
   "codemirror_mode": {
    "name": "ipython",
    "version": 3
   },
   "file_extension": ".py",
   "mimetype": "text/x-python",
   "name": "python",
   "nbconvert_exporter": "python",
   "pygments_lexer": "ipython3",
   "version": "3.9.13"
  }
 },
 "nbformat": 4,
 "nbformat_minor": 5
}
