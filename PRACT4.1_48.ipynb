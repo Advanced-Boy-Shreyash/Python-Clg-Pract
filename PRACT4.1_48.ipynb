{
 "cells": [
  {
   "cell_type": "code",
   "execution_count": 1,
   "id": "06098879",
   "metadata": {},
   "outputs": [
    {
     "name": "stdout",
     "output_type": "stream",
     "text": [
      "Sum = 55\n"
     ]
    }
   ],
   "source": [
    "# Write a Python program to find the sum of first 10 natural numbers using for Loop.\n",
    "sum = 0\n",
    "for i in range(1, 11):\n",
    "    sum = sum+i\n",
    "print(\"Sum =\", sum)"
   ]
  },
  {
   "cell_type": "code",
   "execution_count": 5,
   "id": "45c21f4a",
   "metadata": {},
   "outputs": [
    {
     "name": "stdout",
     "output_type": "stream",
     "text": [
      "Enter a No. to Find Factorial: 5\n",
      "Factorial of 5 is 120\n"
     ]
    }
   ],
   "source": [
    "# Write a Python program to calculate factorial of a number\n",
    "n = int(input(\"Enter a No. to Find Factorial: \"))\n",
    "f = 1\n",
    "for i in range(1, n+1):\n",
    "    f = f*i\n",
    "print (f\"Factorial of {n} is {f}\")"
   ]
  },
  {
   "cell_type": "code",
   "execution_count": 7,
   "id": "1f818fe5",
   "metadata": {},
   "outputs": [
    {
     "name": "stdout",
     "output_type": "stream",
     "text": [
      "Enter number: 87\n",
      "Reverse of the number: 78\n"
     ]
    }
   ],
   "source": [
    "# Write a Python Program to Reverse a Given Number\n",
    "n=int(input(\"Enter number: \"))\n",
    "rev=0\n",
    "while(n>0):\n",
    "    dig=n%10\n",
    "    rev=rev*10+dig\n",
    "    n=n//10\n",
    "print(\"Reverse of the number:\", rev)"
   ]
  }
 ],
 "metadata": {
  "kernelspec": {
   "display_name": "Python 3 (ipykernel)",
   "language": "python",
   "name": "python3"
  },
  "language_info": {
   "codemirror_mode": {
    "name": "ipython",
    "version": 3
   },
   "file_extension": ".py",
   "mimetype": "text/x-python",
   "name": "python",
   "nbconvert_exporter": "python",
   "pygments_lexer": "ipython3",
   "version": "3.9.13"
  }
 },
 "nbformat": 4,
 "nbformat_minor": 5
}
