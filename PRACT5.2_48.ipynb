{
 "cells": [
  {
   "cell_type": "code",
   "execution_count": 1,
   "id": "5bbf6f5e",
   "metadata": {},
   "outputs": [
    {
     "name": "stdout",
     "output_type": "stream",
     "text": [
      "Enter value for num1 :75\n",
      "Enter value for num2 :35\n",
      "Enter value for num3 :64\n",
      "Largest No. is 75\n"
     ]
    }
   ],
   "source": [
    "# Write a Python function to find the Max of three numbers\n",
    "num1=int(input(\"Enter value for num1 :\"))\n",
    "num2=int(input(\"Enter value for num2 :\"))\n",
    "num3=int(input(\"Enter value for num3 :\"))\n",
    "lar=max(num1, num2, num3)\n",
    "print(\"Largest No. is\", lar)"
   ]
  },
  {
   "cell_type": "code",
   "execution_count": 9,
   "id": "76c4332d",
   "metadata": {},
   "outputs": [
    {
     "name": "stdout",
     "output_type": "stream",
     "text": [
      "Multiplication of Nos in List is 210\n"
     ]
    }
   ],
   "source": [
    "# Write a Python function to multiply all the numbers in a list\n",
    "def mul(lst):\n",
    "    n = 1\n",
    "    for i in lst: \n",
    "        n = n*i\n",
    "    print(\"Multiplication of Nos in List is\", n)\n",
    "\n",
    "lst = [1, 3, 5, 7, 2]\n",
    "mul(lst)"
   ]
  },
  {
   "cell_type": "code",
   "execution_count": 12,
   "id": "c298da78",
   "metadata": {},
   "outputs": [
    {
     "name": "stdout",
     "output_type": "stream",
     "text": [
      "Enter a string : Python\n",
      "Reverse String of Python is nohtyP\n"
     ]
    }
   ],
   "source": [
    "#Write a Python program to reverse a string\n",
    "str=input(\"Enter a string : \")\n",
    "rev = str[len(str)::-1] \n",
    "print(\"Reverse String of\", str,\"is\", rev)"
   ]
  },
  {
   "cell_type": "code",
   "execution_count": 16,
   "id": "8b61debc",
   "metadata": {},
   "outputs": [
    {
     "name": "stdout",
     "output_type": "stream",
     "text": [
      "Enter a no to Find Factorial :5\n",
      "Factorial of 5 is 120\n"
     ]
    }
   ],
   "source": [
    "#Write a Python function to calculate the factorial of a number\n",
    "def factorial(n):\n",
    "    if (n==1 or n==0):\n",
    "        return 1\n",
    "    else:\n",
    "        return n * factorial (n - 1)\n",
    "num = int(input(\"Enter a no to Find Factorial :\")) \n",
    "print(\"Factorial of\",num, \"is\", factorial (num))"
   ]
  },
  {
   "cell_type": "code",
   "execution_count": 19,
   "id": "11fb8a7f",
   "metadata": {},
   "outputs": [
    {
     "name": "stdout",
     "output_type": "stream",
     "text": [
      "Original String : This is a String\n",
      "No. of Upper case characters:  2\n",
      "No. of Lower case Characters:  11\n"
     ]
    }
   ],
   "source": [
    "#Write a Python function that accepts a string and calculate the number of upper case letters and Lower case letters.\n",
    "def string_test(s):\n",
    "    d={\"UPPER_CASE\": 0, \"LOWER_CASE\":0}\n",
    "    for c in s:\n",
    "        if c.isupper():\n",
    "            d[\"UPPER_CASE\"]+=1\n",
    "        elif c.islower():\n",
    "            d[\"LOWER_CASE\"]+=1\n",
    "        else:\n",
    "            pass\n",
    "    print (\"Original String :\", s) \n",
    "    print (\"No. of Upper case characters: \", d[\"UPPER_CASE\"])\n",
    "    print (\"No. of Lower case Characters: \", d[\"LOWER_CASE\"])\n",
    "string_test('This is a String')"
   ]
  }
 ],
 "metadata": {
  "kernelspec": {
   "display_name": "Python 3 (ipykernel)",
   "language": "python",
   "name": "python3"
  },
  "language_info": {
   "codemirror_mode": {
    "name": "ipython",
    "version": 3
   },
   "file_extension": ".py",
   "mimetype": "text/x-python",
   "name": "python",
   "nbconvert_exporter": "python",
   "pygments_lexer": "ipython3",
   "version": "3.9.13"
  }
 },
 "nbformat": 4,
 "nbformat_minor": 5
}
