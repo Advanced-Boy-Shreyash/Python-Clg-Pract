{
 "cells": [
  {
   "cell_type": "code",
   "execution_count": 1,
   "id": "73c1e680",
   "metadata": {},
   "outputs": [
    {
     "name": "stdout",
     "output_type": "stream",
     "text": [
      "Enter a number: 45\n",
      "45 is Odd\n"
     ]
    }
   ],
   "source": [
    "# Write a program to check whether a number is even or odd\n",
    "num = int(input(\"Enter a number: \"))\n",
    "if (num % 2) == 0:\n",
    "    print(f\"{num} is Even\")\n",
    "else:\n",
    "    print(f\"{num} is Odd\")"
   ]
  },
  {
   "cell_type": "code",
   "execution_count": 2,
   "id": "4066e423",
   "metadata": {},
   "outputs": [
    {
     "name": "stdout",
     "output_type": "stream",
     "text": [
      "Enter Value for a :85\n",
      "Enter Value for b :65\n",
      "Enter Value for c :98\n",
      "The largest number is 98\n"
     ]
    }
   ],
   "source": [
    "#Write a program to check the largest number among the three numbers\n",
    "a = int(input(\"Enter Value for a :\"))\n",
    "b = int(input(\"Enter Value for b :\"))\n",
    "c = int(input(\"Enter Value for c :\"))\n",
    "if (a >= b) and (a >= c):\n",
    "    largest = a\n",
    "elif (b >= a) and (b >= c):\n",
    "    largest = b\n",
    "else:\n",
    "    largest = c\n",
    "print(\"The largest number is\", largest)"
   ]
  },
  {
   "cell_type": "code",
   "execution_count": 4,
   "id": "a0b5a6f8",
   "metadata": {},
   "outputs": [
    {
     "name": "stdout",
     "output_type": "stream",
     "text": [
      "Enter a number: 87\n",
      "87.0 is Positive number\n"
     ]
    }
   ],
   "source": [
    "# Write a program to check if a number is Positive, Negative or Zero\n",
    "num = float(input(\"Enter a number: \"))\n",
    "if num > 0:\n",
    "    print(num, \"is Positive number\")\n",
    "elif num == 0:\n",
    "    print(\"Zero\")\n",
    "else:\n",
    "    print(num, \"is Negative number\")"
   ]
  },
  {
   "cell_type": "code",
   "execution_count": 6,
   "id": "ee3756d1",
   "metadata": {},
   "outputs": [
    {
     "name": "stdout",
     "output_type": "stream",
     "text": [
      "Enter Marks in Subject 1 :54\n",
      "Enter Marks in Subject 2 :65\n",
      "Enter Marks in Subject 3 :85\n",
      "Enter Marks in Subject 4 :90\n",
      "Enter Marks in Subject 5 :86\n",
      "You Have Total Marks : 380\n",
      "You Have Total Percentage : 76.0\n",
      "Your Grade is B\n"
     ]
    }
   ],
   "source": [
    "# Write a program that takes the marks of 5 subjects and display the grade in python\n",
    "mark1 = int(input(\"Enter Marks in Subject 1 :\"))\n",
    "mark2 = int(input(\"Enter Marks in Subject 2 :\"))\n",
    "mark3 = int(input(\"Enter Marks in Subject 3 :\"))\n",
    "mark4 = int(input(\"Enter Marks in Subject 4 :\"))\n",
    "mark5 = int(input(\"Enter Marks in Subject 5 :\"))\n",
    "total = mark1+mark2+mark3+mark4+mark5\n",
    "avg = total/5\n",
    "print(\"You Have Total Marks :\", total)\n",
    "print(\"You Have Total Percentage :\", avg)\n",
    "if avg >= 81 and avg <= 100:\n",
    "    print(\"Your Grade is A\")\n",
    "elif avg >= 71 and avg < 81:\n",
    "    print(\"Your Grade is B\")\n",
    "elif avg >= 60 and avg < 71:\n",
    "    print(\"Your Grade is C\")\n",
    "elif avg >= 45 and avg < 60:\n",
    "    print(\"Your Grade is D\")\n",
    "else:\n",
    "    print(\"Invalid Input!\")"
   ]
  }
 ],
 "metadata": {
  "kernelspec": {
   "display_name": "Python 3 (ipykernel)",
   "language": "python",
   "name": "python3"
  },
  "language_info": {
   "codemirror_mode": {
    "name": "ipython",
    "version": 3
   },
   "file_extension": ".py",
   "mimetype": "text/x-python",
   "name": "python",
   "nbconvert_exporter": "python",
   "pygments_lexer": "ipython3",
   "version": "3.9.13"
  }
 },
 "nbformat": 4,
 "nbformat_minor": 5
}
